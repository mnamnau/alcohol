{
 "cells": [
  {
   "cell_type": "markdown",
   "metadata": {},
   "source": [
    "Načtěte dataset Palmer Penguins\n",
    "Můžete jej stáhnout z GitHub repozitáře."
   ]
  },
  {
   "cell_type": "code",
   "execution_count": 34,
   "metadata": {},
   "outputs": [],
   "source": [
    "import pandas as pd"
   ]
  },
  {
   "cell_type": "markdown",
   "metadata": {},
   "source": [
    "Použijte knihovnu pandas, metodu `read_csv()` \\\n",
    "a data uložte do dataframu nazváného data."
   ]
  },
  {
   "cell_type": "code",
   "execution_count": 35,
   "metadata": {},
   "outputs": [
    {
     "name": "stdout",
     "output_type": "stream",
     "text": [
      "       species     island  bill_length_mm  bill_depth_mm  flipper_length_mm  \\\n",
      "0       Adelie  Torgersen            39.1           18.7              181.0   \n",
      "1       Adelie  Torgersen            39.5           17.4              186.0   \n",
      "2       Adelie  Torgersen            40.3           18.0              195.0   \n",
      "3       Adelie  Torgersen             NaN            NaN                NaN   \n",
      "4       Adelie  Torgersen            36.7           19.3              193.0   \n",
      "..         ...        ...             ...            ...                ...   \n",
      "339  Chinstrap      Dream            55.8           19.8              207.0   \n",
      "340  Chinstrap      Dream            43.5           18.1              202.0   \n",
      "341  Chinstrap      Dream            49.6           18.2              193.0   \n",
      "342  Chinstrap      Dream            50.8           19.0              210.0   \n",
      "343  Chinstrap      Dream            50.2           18.7              198.0   \n",
      "\n",
      "     body_mass_g     sex  year  \n",
      "0         3750.0    male  2007  \n",
      "1         3800.0  female  2007  \n",
      "2         3250.0  female  2007  \n",
      "3            NaN     NaN  2007  \n",
      "4         3450.0  female  2007  \n",
      "..           ...     ...   ...  \n",
      "339       4000.0    male  2009  \n",
      "340       3400.0  female  2009  \n",
      "341       3775.0    male  2009  \n",
      "342       4100.0    male  2009  \n",
      "343       3775.0  female  2009  \n",
      "\n",
      "[344 rows x 8 columns]\n"
     ]
    }
   ],
   "source": [
    "data = pd.read_csv('palmer_penguins.csv')\n",
    "data\n",
    "print(data)"
   ]
  },
  {
   "cell_type": "markdown",
   "metadata": {},
   "source": [
    "#Sloupce datasetu:\n",
    "\n",
    "*species – Druh tučňáka (Adélie, Gentoo, Chinstrap)\\\n",
    "*island – Ostrov, na kterém byl tučňák pozorován (Biscoe, Dream, Torgersen)\\\n",
    "*bill_length_mm – Délka zobáku v milimetrech\\\n",
    "*bill_depth_mm – Hloubka zobáku v milimetrech\\\n",
    "*flipper_length_mm – Délka ploutve v milimetrech\\\n",
    "*body_mass_g – Hmotnost těla tučňáka v gramech\\\n",
    "*sex – Pohlaví tučňáka (Male nebo Female)\\\n",
    "*year – Rok, kdy bylo měření provedeno"
   ]
  },
  {
   "cell_type": "markdown",
   "metadata": {},
   "source": [
    "Kolik sloupců má načtený dataset?\\\n",
    "8\n"
   ]
  },
  {
   "cell_type": "code",
   "execution_count": 36,
   "metadata": {},
   "outputs": [
    {
     "data": {
      "text/plain": [
       "8"
      ]
     },
     "execution_count": 36,
     "metadata": {},
     "output_type": "execute_result"
    }
   ],
   "source": [
    "data.shape[1] #vratí počet sloupců\n",
    "#data.info()"
   ]
  },
  {
   "cell_type": "code",
   "execution_count": 37,
   "metadata": {},
   "outputs": [
    {
     "name": "stdout",
     "output_type": "stream",
     "text": [
      "Dataset má 344 řádků a 8 sloupců.\n"
     ]
    }
   ],
   "source": [
    "\n",
    "# Zjištění počtu řádků\n",
    "pocet_radku = data.shape[0] #vrat mi, co je na prvni pozici (tedy 0), tedy cislo radek, \n",
    "pocet_sloupcu = data.shape[1] #pocet sloupcu\n",
    "\n",
    "print(f\"Dataset má {pocet_radku} řádků a {pocet_sloupcu} sloupců.\")"
   ]
  },
  {
   "cell_type": "markdown",
   "metadata": {},
   "source": [
    "Kolik sloupců v datasetu obsahuje prázdné hodnoty?\\\n",
    "\n",
    "Odpověď se dá vyčíst pomocí metody `info()`\n"
   ]
  },
  {
   "cell_type": "code",
   "execution_count": 38,
   "metadata": {},
   "outputs": [
    {
     "data": {
      "text/plain": [
       "5"
      ]
     },
     "execution_count": 38,
     "metadata": {},
     "output_type": "execute_result"
    }
   ],
   "source": [
    "#data.info()\n",
    "data.isnull().any().sum() #chybejici hodnoty "
   ]
  },
  {
   "cell_type": "markdown",
   "metadata": {},
   "source": [
    "Výstupy describe():\n",
    "\n",
    "count: Počet ne-nulových hodnot.\\\n",
    "mean: Průměrná hodnota.\\\n",
    "std: Směrodatná odchylka.\\\n",
    "min: Minimální hodnota.\\\n",
    "25%: 25. percentil (první kvartil).\\\n",
    "50%: 50. percentil (medián).\\\n",
    "75%: 75. percentil (třetí kvartil).\\\n",
    "max: Maximální hodnota.\\"
   ]
  },
  {
   "cell_type": "code",
   "execution_count": 39,
   "metadata": {},
   "outputs": [
    {
     "name": "stdout",
     "output_type": "stream",
     "text": [
      "4201.754385964912\n"
     ]
    }
   ],
   "source": [
    "#print(data)\n",
    "# Jaký je průměrný `body_mass_g` tučňáků v datasetu?\n",
    "BMI = data['body_mass_g'].mean()\n",
    "print(BMI)"
   ]
  },
  {
   "cell_type": "code",
   "execution_count": 40,
   "metadata": {},
   "outputs": [
    {
     "name": "stdout",
     "output_type": "stream",
     "text": [
      "231.0\n",
      "Maximální délka křídel je 231.0 cm.\n"
     ]
    }
   ],
   "source": [
    "#Jaká je maximální délka křídel (`flipper_length_mm`) tučňáků v datasetu?\n",
    "max_delka = data['flipper_length_mm'].max()\n",
    "print(max_delka)\n",
    "print(f\"Maximální délka křídel je {max_delka} cm.\")"
   ]
  },
  {
   "cell_type": "markdown",
   "metadata": {},
   "source": [
    "Metoda `unique()`\\\n",
    "Použijte metodu unique() pro zjištění různých druhů tučňáků (species) v datasetu."
   ]
  },
  {
   "cell_type": "code",
   "execution_count": 41,
   "metadata": {},
   "outputs": [
    {
     "name": "stdout",
     "output_type": "stream",
     "text": [
      "['Adelie' 'Gentoo' 'Chinstrap']\n",
      "Unikátní jména jsou ['Adelie' 'Gentoo' 'Chinstrap'].\n"
     ]
    }
   ],
   "source": [
    "unikatni_jmena = data['species'].unique()\n",
    "print(unikatni_jmena)\n",
    "print(f\"Unikátní jména jsou {unikatni_jmena}.\")"
   ]
  },
  {
   "cell_type": "markdown",
   "metadata": {},
   "source": [
    "sloupce DS\\\n",
    "*species – Druh tučňáka (Adélie, Gentoo, Chinstrap)\\\n",
    "*island – Ostrov, na kterém byl tučňák pozorován (Biscoe, Dream, Torgersen)\\\n",
    "*bill_length_mm – Délka zobáku v milimetrech\\\n",
    "*bill_depth_mm – Hloubka zobáku v milimetrech\\\n",
    "*flipper_length_mm – Délka ploutve v milimetrech\\\n",
    "*body_mass_g – Hmotnost těla tučňáka v gramech\\\n",
    "*sex – Pohlaví tučňáka (Male nebo Female)\\\n",
    "*year – Rok, kdy bylo měření provedeno"
   ]
  },
  {
   "cell_type": "markdown",
   "metadata": {},
   "source": [
    "#kvíz pro 2. lekci\\\n",
    "Které druhy tučňáka mají zastoupení na ostrově Dream?\n"
   ]
  },
  {
   "cell_type": "code",
   "execution_count": 42,
   "metadata": {},
   "outputs": [],
   "source": [
    "unikatni_jmena = data['species'].unique() #ale jen na ostrově DREAM"
   ]
  },
  {
   "cell_type": "code",
   "execution_count": 48,
   "metadata": {},
   "outputs": [
    {
     "data": {
      "text/html": [
       "<div>\n",
       "<style scoped>\n",
       "    .dataframe tbody tr th:only-of-type {\n",
       "        vertical-align: middle;\n",
       "    }\n",
       "\n",
       "    .dataframe tbody tr th {\n",
       "        vertical-align: top;\n",
       "    }\n",
       "\n",
       "    .dataframe thead th {\n",
       "        text-align: right;\n",
       "    }\n",
       "</style>\n",
       "<table border=\"1\" class=\"dataframe\">\n",
       "  <thead>\n",
       "    <tr style=\"text-align: right;\">\n",
       "      <th></th>\n",
       "      <th>species</th>\n",
       "      <th>island</th>\n",
       "      <th>bill_length_mm</th>\n",
       "      <th>bill_depth_mm</th>\n",
       "      <th>flipper_length_mm</th>\n",
       "      <th>body_mass_g</th>\n",
       "      <th>sex</th>\n",
       "      <th>year</th>\n",
       "    </tr>\n",
       "  </thead>\n",
       "  <tbody>\n",
       "    <tr>\n",
       "      <th>30</th>\n",
       "      <td>Adelie</td>\n",
       "      <td>Dream</td>\n",
       "      <td>39.5</td>\n",
       "      <td>16.7</td>\n",
       "      <td>178.0</td>\n",
       "      <td>3250.0</td>\n",
       "      <td>female</td>\n",
       "      <td>2007</td>\n",
       "    </tr>\n",
       "    <tr>\n",
       "      <th>31</th>\n",
       "      <td>Adelie</td>\n",
       "      <td>Dream</td>\n",
       "      <td>37.2</td>\n",
       "      <td>18.1</td>\n",
       "      <td>178.0</td>\n",
       "      <td>3900.0</td>\n",
       "      <td>male</td>\n",
       "      <td>2007</td>\n",
       "    </tr>\n",
       "    <tr>\n",
       "      <th>32</th>\n",
       "      <td>Adelie</td>\n",
       "      <td>Dream</td>\n",
       "      <td>39.5</td>\n",
       "      <td>17.8</td>\n",
       "      <td>188.0</td>\n",
       "      <td>3300.0</td>\n",
       "      <td>female</td>\n",
       "      <td>2007</td>\n",
       "    </tr>\n",
       "    <tr>\n",
       "      <th>33</th>\n",
       "      <td>Adelie</td>\n",
       "      <td>Dream</td>\n",
       "      <td>40.9</td>\n",
       "      <td>18.9</td>\n",
       "      <td>184.0</td>\n",
       "      <td>3900.0</td>\n",
       "      <td>male</td>\n",
       "      <td>2007</td>\n",
       "    </tr>\n",
       "    <tr>\n",
       "      <th>34</th>\n",
       "      <td>Adelie</td>\n",
       "      <td>Dream</td>\n",
       "      <td>36.4</td>\n",
       "      <td>17.0</td>\n",
       "      <td>195.0</td>\n",
       "      <td>3325.0</td>\n",
       "      <td>female</td>\n",
       "      <td>2007</td>\n",
       "    </tr>\n",
       "    <tr>\n",
       "      <th>...</th>\n",
       "      <td>...</td>\n",
       "      <td>...</td>\n",
       "      <td>...</td>\n",
       "      <td>...</td>\n",
       "      <td>...</td>\n",
       "      <td>...</td>\n",
       "      <td>...</td>\n",
       "      <td>...</td>\n",
       "    </tr>\n",
       "    <tr>\n",
       "      <th>339</th>\n",
       "      <td>Chinstrap</td>\n",
       "      <td>Dream</td>\n",
       "      <td>55.8</td>\n",
       "      <td>19.8</td>\n",
       "      <td>207.0</td>\n",
       "      <td>4000.0</td>\n",
       "      <td>male</td>\n",
       "      <td>2009</td>\n",
       "    </tr>\n",
       "    <tr>\n",
       "      <th>340</th>\n",
       "      <td>Chinstrap</td>\n",
       "      <td>Dream</td>\n",
       "      <td>43.5</td>\n",
       "      <td>18.1</td>\n",
       "      <td>202.0</td>\n",
       "      <td>3400.0</td>\n",
       "      <td>female</td>\n",
       "      <td>2009</td>\n",
       "    </tr>\n",
       "    <tr>\n",
       "      <th>341</th>\n",
       "      <td>Chinstrap</td>\n",
       "      <td>Dream</td>\n",
       "      <td>49.6</td>\n",
       "      <td>18.2</td>\n",
       "      <td>193.0</td>\n",
       "      <td>3775.0</td>\n",
       "      <td>male</td>\n",
       "      <td>2009</td>\n",
       "    </tr>\n",
       "    <tr>\n",
       "      <th>342</th>\n",
       "      <td>Chinstrap</td>\n",
       "      <td>Dream</td>\n",
       "      <td>50.8</td>\n",
       "      <td>19.0</td>\n",
       "      <td>210.0</td>\n",
       "      <td>4100.0</td>\n",
       "      <td>male</td>\n",
       "      <td>2009</td>\n",
       "    </tr>\n",
       "    <tr>\n",
       "      <th>343</th>\n",
       "      <td>Chinstrap</td>\n",
       "      <td>Dream</td>\n",
       "      <td>50.2</td>\n",
       "      <td>18.7</td>\n",
       "      <td>198.0</td>\n",
       "      <td>3775.0</td>\n",
       "      <td>female</td>\n",
       "      <td>2009</td>\n",
       "    </tr>\n",
       "  </tbody>\n",
       "</table>\n",
       "<p>124 rows × 8 columns</p>\n",
       "</div>"
      ],
      "text/plain": [
       "       species island  bill_length_mm  bill_depth_mm  flipper_length_mm  \\\n",
       "30      Adelie  Dream            39.5           16.7              178.0   \n",
       "31      Adelie  Dream            37.2           18.1              178.0   \n",
       "32      Adelie  Dream            39.5           17.8              188.0   \n",
       "33      Adelie  Dream            40.9           18.9              184.0   \n",
       "34      Adelie  Dream            36.4           17.0              195.0   \n",
       "..         ...    ...             ...            ...                ...   \n",
       "339  Chinstrap  Dream            55.8           19.8              207.0   \n",
       "340  Chinstrap  Dream            43.5           18.1              202.0   \n",
       "341  Chinstrap  Dream            49.6           18.2              193.0   \n",
       "342  Chinstrap  Dream            50.8           19.0              210.0   \n",
       "343  Chinstrap  Dream            50.2           18.7              198.0   \n",
       "\n",
       "     body_mass_g     sex  year  \n",
       "30        3250.0  female  2007  \n",
       "31        3900.0    male  2007  \n",
       "32        3300.0  female  2007  \n",
       "33        3900.0    male  2007  \n",
       "34        3325.0  female  2007  \n",
       "..           ...     ...   ...  \n",
       "339       4000.0    male  2009  \n",
       "340       3400.0  female  2009  \n",
       "341       3775.0    male  2009  \n",
       "342       4100.0    male  2009  \n",
       "343       3775.0  female  2009  \n",
       "\n",
       "[124 rows x 8 columns]"
      ]
     },
     "execution_count": 48,
     "metadata": {},
     "output_type": "execute_result"
    }
   ],
   "source": [
    "#data[\"island\"] == \"Dream\"\n",
    "\n",
    "island = data[\n",
    "    data[\"island\"] == \"Dream\"\n",
    "    ]\n",
    "island\n",
    "\n"
   ]
  },
  {
   "cell_type": "code",
   "execution_count": 51,
   "metadata": {},
   "outputs": [
    {
     "data": {
      "text/plain": [
       "array(['Adelie', 'Chinstrap'], dtype=object)"
      ]
     },
     "execution_count": 51,
     "metadata": {},
     "output_type": "execute_result"
    }
   ],
   "source": [
    "druh = data[\n",
    "    (data['island'].isin(['Dream']) ) #metoda .isin\n",
    " ]\n",
    "druh\n",
    "\n",
    "unikatni_druhy = druh['species'].unique() #ale jen na ostrově DREAM\n",
    "unikatni_druhy\n"
   ]
  },
  {
   "cell_type": "markdown",
   "metadata": {},
   "source": [
    "Kolik tučňáků má hmotnost vyšší než 5000 gramů?\\\n",
    "\n",
    "Odpověz číslicí.\\\n",
    "\n",
    "Použijte podmíněný výběr k filtraci tučňáků s hmotností vyšší než 5000 gramů a spočítejte počet takových záznamů."
   ]
  },
  {
   "cell_type": "code",
   "execution_count": 61,
   "metadata": {},
   "outputs": [
    {
     "data": {
      "text/plain": [
       "species              61\n",
       "island               61\n",
       "bill_length_mm       61\n",
       "bill_depth_mm        61\n",
       "flipper_length_mm    61\n",
       "body_mass_g          61\n",
       "sex                  61\n",
       "year                 61\n",
       "dtype: int64"
      ]
     },
     "execution_count": 61,
     "metadata": {},
     "output_type": "execute_result"
    }
   ],
   "source": [
    "hmotnost = data[\n",
    "(data[\"body_mass_g\"] > 5000) #prvni podminka\n",
    "]\n",
    "\n",
    "pocet = hmotnost.count()\n",
    "pocet"
   ]
  },
  {
   "cell_type": "markdown",
   "metadata": {},
   "source": [
    "Kolik tučňáků má hmotnost menší než 3500 gramů a délku křídla (`flipper`) větší než 200 mm?\\\n",
    "\n",
    "Odpověz číslicí.\\\n",
    "\n",
    "Použijte podmíněný výběr pro najití tučňáků splňujících obě kritéria a spočítejte, kolik takových záznamů existuje."
   ]
  },
  {
   "cell_type": "code",
   "execution_count": 85,
   "metadata": {},
   "outputs": [],
   "source": [
    "hmotnost_tuc = data[data[\"body_mass_g\"] < 3500]\n",
    "delka_kridla = data[data[\"flipper_length_mm\"] > 200]\n",
    "\n",
    "hmotnost_tuc\n",
    "delka_kridla\n",
    "\n",
    "#pocet = hmotnost_tuc.count\n",
    "#pocet\n",
    "\n",
    "delka_kridla.to_csv('delka_kridla.csv', index = False) #ulozit BEZ indexu"
   ]
  },
  {
   "cell_type": "code",
   "execution_count": 109,
   "metadata": {},
   "outputs": [
    {
     "data": {
      "text/plain": [
       "species              1\n",
       "island               1\n",
       "bill_length_mm       1\n",
       "bill_depth_mm        1\n",
       "flipper_length_mm    1\n",
       "body_mass_g          1\n",
       "sex                  1\n",
       "year                 1\n",
       "dtype: int64"
      ]
     },
     "execution_count": 109,
     "metadata": {},
     "output_type": "execute_result"
    }
   ],
   "source": [
    "tucnaci = data[\n",
    "(data[\"body_mass_g\"] < 3500) #hmotnost menší než 3500 gramů\n",
    "& (data[\"flipper_length_mm\"] > 200) #a zaroven délku křídla (`flipper`) větší než 200 mm\n",
    "]\n",
    "\n",
    "tucnaci\n",
    "\n",
    "#pocet_tuc = tucnaci.count\n",
    "pocet_tuc = tucnaci.count()\n",
    "pocet_tuc"
   ]
  },
  {
   "cell_type": "markdown",
   "metadata": {},
   "source": [
    "Kolik tučňáků z ostrova Torgersen má ve sloupci `sex` uvedenu hodnotu `female`?"
   ]
  },
  {
   "cell_type": "code",
   "execution_count": 97,
   "metadata": {},
   "outputs": [
    {
     "data": {
      "text/plain": [
       "species              24\n",
       "island               24\n",
       "bill_length_mm       24\n",
       "bill_depth_mm        24\n",
       "flipper_length_mm    24\n",
       "body_mass_g          24\n",
       "sex                  24\n",
       "year                 24\n",
       "dtype: int64"
      ]
     },
     "execution_count": 97,
     "metadata": {},
     "output_type": "execute_result"
    }
   ],
   "source": [
    "pocet_torgesen = data[\n",
    "    (data['island'].isin(['Torgersen']) ) #metoda .isin\n",
    "    &(data['sex'].isin(['female']) ) #metoda .isin\n",
    " ]\n",
    "celkem_pocet_torgesen = pocet_torgesen.count()\n",
    "celkem_pocet_torgesen\n"
   ]
  },
  {
   "cell_type": "markdown",
   "metadata": {},
   "source": [
    "Který rok má nejvíce záznamů? \n"
   ]
  },
  {
   "cell_type": "code",
   "execution_count": 104,
   "metadata": {},
   "outputs": [
    {
     "data": {
      "text/plain": [
       "year\n",
       "2007    110\n",
       "2008    114\n",
       "2009    120\n",
       "Name: count, dtype: int64"
      ]
     },
     "execution_count": 104,
     "metadata": {},
     "output_type": "execute_result"
    }
   ],
   "source": [
    "#rok = data[\"year\"].unique()\n",
    "rok = data[\"year\"].value_counts(sort=False)#.max()\n",
    "rok"
   ]
  },
  {
   "cell_type": "markdown",
   "metadata": {},
   "source": [
    "Jaká je mediánová hodnota `body_mass_g%` tučňáků?\\\n",
    "\n",
    "Použijte metodu `describe()` pro zobrazení základních statistik.\\\n",
    "\n",
    "50. percentil je totéž jako medián."
   ]
  },
  {
   "cell_type": "code",
   "execution_count": 105,
   "metadata": {},
   "outputs": [
    {
     "data": {
      "text/plain": [
       "count     342.000000\n",
       "mean     4201.754386\n",
       "std       801.954536\n",
       "min      2700.000000\n",
       "25%      3550.000000\n",
       "50%      4050.000000\n",
       "75%      4750.000000\n",
       "max      6300.000000\n",
       "Name: body_mass_g, dtype: float64"
      ]
     },
     "execution_count": 105,
     "metadata": {},
     "output_type": "execute_result"
    }
   ],
   "source": [
    "median_hmot = data[\"body_mass_g\"].describe()\n",
    "median_hmot"
   ]
  },
  {
   "cell_type": "code",
   "execution_count": 111,
   "metadata": {},
   "outputs": [
    {
     "data": {
      "text/plain": [
       "<pandas.core.groupby.generic.DataFrameGroupBy object at 0x10cb5cc80>"
      ]
     },
     "execution_count": 111,
     "metadata": {},
     "output_type": "execute_result"
    }
   ],
   "source": [
    "# Skupiny podle druhu\n",
    "grouped = data.groupby('species') #podle jakyho sloupce seskupuju - group by je metoda a metody mají kulatý závorky když chci víc sloupecku, tak pouziju [jako seznam]\n",
    "grouped #vytvorim promennou, kterou pak pouziju pro vypocet prumeru pro jednotlivé skupiny\n",
    "#Tento objekt ale ještě neprovádí žádnou operaci nad těmito skupinami. Jinými slovy, je to \"připravená\" struktura, která ti umožní pracovat se skupinami, ale sama o sobě nezobrazuje data.\n",
    "#vrati to objekt"
   ]
  },
  {
   "cell_type": "code",
   "execution_count": 112,
   "metadata": {},
   "outputs": [
    {
     "data": {
      "text/plain": [
       "species\n",
       "Adelie       3700.662252\n",
       "Chinstrap    3733.088235\n",
       "Gentoo       5076.016260\n",
       "Name: body_mass_g, dtype: float64"
      ]
     },
     "execution_count": 112,
     "metadata": {},
     "output_type": "execute_result"
    }
   ],
   "source": [
    "# Výpočet průměrné hmotnosti podle druhu, ze sloupecku, nad kterym agregaci delame a vkladam do nej ten agregovany sloupec\n",
    "\n",
    "avg_body_mass = grouped['body_mass_g'].mean() \n",
    "avg_body_mass #vrati unikatni hodnoty ze sloupce, ktery seskupuju (species) a jejich prumerne hodnoty (body mass g)"
   ]
  },
  {
   "cell_type": "code",
   "execution_count": 118,
   "metadata": {},
   "outputs": [
    {
     "data": {
      "text/plain": [
       "6300.0"
      ]
     },
     "execution_count": 118,
     "metadata": {},
     "output_type": "execute_result"
    }
   ],
   "source": [
    "#Nejprve seskupte data podle druhu tučňáka pomocí groupby()\n",
    "grouped\n",
    "#poté použijte agregaci max() na sloupec s hmotností\n",
    "hmotnost_max = grouped['body_mass_g'].max()\n",
    "#nakonec použijte metodu sort_values() pro seřazení výsledků sestupně a získejte první řádek pro odpověď.\n",
    "hmotnost_max_sorted = hmotnost_max.sort_values(ascending=False)\n",
    "#zobrazí mi tucnaka s nejvetsi hmotnost\n",
    "heaviest_penguin = hmotnost_max_sorted.iloc[0]\n",
    "heaviest_penguin\n"
   ]
  },
  {
   "cell_type": "code",
   "execution_count": 122,
   "metadata": {},
   "outputs": [
    {
     "data": {
      "text/plain": [
       "species    sex   \n",
       "Adelie     female    73\n",
       "           male      73\n",
       "Chinstrap  female    34\n",
       "           male      34\n",
       "Gentoo     female    58\n",
       "           male      61\n",
       "dtype: int64"
      ]
     },
     "execution_count": 122,
     "metadata": {},
     "output_type": "execute_result"
    }
   ],
   "source": [
    "#Jaký je počet tučňáků podle jejich pohlaví v každém druhu? \n",
    "\n",
    "#Seskupení dat podle dvou sloupců: Použijeme metodu groupby(), kde jako parametry předáme oba sloupce, které nás zajímají: species (druh tučňáka) a sex (pohlaví).\n",
    "grouped_multi = data.groupby(['species', 'sex'])\n",
    "#Použití agregační funkce size(): Funkce size() spočítá počet řádků (tučňáků) v každé kombinaci druhu a pohlaví.\n",
    "penguin_counts = grouped_multi.size()\n",
    "penguin_counts"
   ]
  },
  {
   "cell_type": "code",
   "execution_count": 125,
   "metadata": {},
   "outputs": [
    {
     "data": {
      "text/html": [
       "<div>\n",
       "<style scoped>\n",
       "    .dataframe tbody tr th:only-of-type {\n",
       "        vertical-align: middle;\n",
       "    }\n",
       "\n",
       "    .dataframe tbody tr th {\n",
       "        vertical-align: top;\n",
       "    }\n",
       "\n",
       "    .dataframe thead th {\n",
       "        text-align: right;\n",
       "    }\n",
       "</style>\n",
       "<table border=\"1\" class=\"dataframe\">\n",
       "  <thead>\n",
       "    <tr style=\"text-align: right;\">\n",
       "      <th></th>\n",
       "      <th>min</th>\n",
       "      <th>max</th>\n",
       "    </tr>\n",
       "    <tr>\n",
       "      <th>species</th>\n",
       "      <th></th>\n",
       "      <th></th>\n",
       "    </tr>\n",
       "  </thead>\n",
       "  <tbody>\n",
       "    <tr>\n",
       "      <th>Adelie</th>\n",
       "      <td>172.0</td>\n",
       "      <td>210.0</td>\n",
       "    </tr>\n",
       "    <tr>\n",
       "      <th>Chinstrap</th>\n",
       "      <td>178.0</td>\n",
       "      <td>212.0</td>\n",
       "    </tr>\n",
       "    <tr>\n",
       "      <th>Gentoo</th>\n",
       "      <td>203.0</td>\n",
       "      <td>231.0</td>\n",
       "    </tr>\n",
       "  </tbody>\n",
       "</table>\n",
       "</div>"
      ],
      "text/plain": [
       "             min    max\n",
       "species                \n",
       "Adelie     172.0  210.0\n",
       "Chinstrap  178.0  212.0\n",
       "Gentoo     203.0  231.0"
      ]
     },
     "execution_count": 125,
     "metadata": {},
     "output_type": "execute_result"
    }
   ],
   "source": [
    "#Jaké jsou minimální a maximální hodnoty délky křídel tučňáků a jak se liší mezi druhy? Který druh má nejmenší rozdíl mezi minimální a maximální délkou křídel?\n",
    "grouped\n",
    "## Použití metody agg() pro zjištění minimální a maximální délky křídel\n",
    "kridla = grouped['flipper_length_mm'].agg(['min', 'max']) #agg a pak vlozim slovnik\n",
    "kridla\n",
    "\n",
    "\n"
   ]
  },
  {
   "cell_type": "code",
   "execution_count": 128,
   "metadata": {},
   "outputs": [
    {
     "data": {
      "text/plain": [
       "species\n",
       "Adelie       38.0\n",
       "Chinstrap    34.0\n",
       "Gentoo       28.0\n",
       "dtype: float64"
      ]
     },
     "execution_count": 128,
     "metadata": {},
     "output_type": "execute_result"
    }
   ],
   "source": [
    "\n",
    "# Výpočet rozdílu mezi maximální a minimální délkou křídel\n",
    "kridla['difference'] = kridla['max'] - kridla['min']\n",
    "rozdil_kridel = kridla['difference'] = kridla['max'] - kridla['min']\n",
    "rozdil_kridel\n"
   ]
  },
  {
   "cell_type": "code",
   "execution_count": 129,
   "metadata": {},
   "outputs": [
    {
     "data": {
      "text/html": [
       "<div>\n",
       "<style scoped>\n",
       "    .dataframe tbody tr th:only-of-type {\n",
       "        vertical-align: middle;\n",
       "    }\n",
       "\n",
       "    .dataframe tbody tr th {\n",
       "        vertical-align: top;\n",
       "    }\n",
       "\n",
       "    .dataframe thead th {\n",
       "        text-align: right;\n",
       "    }\n",
       "</style>\n",
       "<table border=\"1\" class=\"dataframe\">\n",
       "  <thead>\n",
       "    <tr style=\"text-align: right;\">\n",
       "      <th></th>\n",
       "      <th>min</th>\n",
       "      <th>max</th>\n",
       "      <th>difference</th>\n",
       "    </tr>\n",
       "    <tr>\n",
       "      <th>species</th>\n",
       "      <th></th>\n",
       "      <th></th>\n",
       "      <th></th>\n",
       "    </tr>\n",
       "  </thead>\n",
       "  <tbody>\n",
       "    <tr>\n",
       "      <th>Gentoo</th>\n",
       "      <td>203.0</td>\n",
       "      <td>231.0</td>\n",
       "      <td>28.0</td>\n",
       "    </tr>\n",
       "    <tr>\n",
       "      <th>Chinstrap</th>\n",
       "      <td>178.0</td>\n",
       "      <td>212.0</td>\n",
       "      <td>34.0</td>\n",
       "    </tr>\n",
       "    <tr>\n",
       "      <th>Adelie</th>\n",
       "      <td>172.0</td>\n",
       "      <td>210.0</td>\n",
       "      <td>38.0</td>\n",
       "    </tr>\n",
       "  </tbody>\n",
       "</table>\n",
       "</div>"
      ],
      "text/plain": [
       "             min    max  difference\n",
       "species                            \n",
       "Gentoo     203.0  231.0        28.0\n",
       "Chinstrap  178.0  212.0        34.0\n",
       "Adelie     172.0  210.0        38.0"
      ]
     },
     "execution_count": 129,
     "metadata": {},
     "output_type": "execute_result"
    }
   ],
   "source": [
    "# Seřazení podle rozdílu a zjištění druhu s nejmenším rozdílem\n",
    "kridla_sorted = kridla.sort_values(by='difference')\n",
    "kridla_sorted"
   ]
  },
  {
   "cell_type": "markdown",
   "metadata": {},
   "source": [
    "Jaký je medián hmotnosti tučňáků a liší se tento medián mezi jednotlivými ostrovy, kde tučňáci žijí? Na kterém ostrově je medián hmotnosti největší?"
   ]
  },
  {
   "cell_type": "code",
   "execution_count": 130,
   "metadata": {},
   "outputs": [],
   "source": [
    "#Seskupení dat podle názvu ostrova: \n",
    "grouped_island = data.groupby('island')"
   ]
  },
  {
   "cell_type": "code",
   "execution_count": 134,
   "metadata": {},
   "outputs": [
    {
     "data": {
      "text/plain": [
       "island\n",
       "Biscoe       4775.0\n",
       "Torgersen    3700.0\n",
       "Dream        3687.5\n",
       "Name: body_mass_g, dtype: float64"
      ]
     },
     "execution_count": 134,
     "metadata": {},
     "output_type": "execute_result"
    }
   ],
   "source": [
    "#Výpočet mediánu hmotnosti: Použijeme funkci median() pro výpočet mediánu hmotnosti (body_mass_g) na každém ostrově.\n",
    "grouped_island['body_mass_g'].median()\n",
    "median_hmot_island = grouped_island['body_mass_g'].median()\n",
    "median_hmot_island \n",
    "\n",
    "median_hmot_island_sorted = median_hmot_island.sort_values(ascending=False)\n",
    "\n",
    "median_hmot_island_sorted\n"
   ]
  },
  {
   "cell_type": "markdown",
   "metadata": {},
   "source": [
    "Existují v datasetu chybějící hodnoty? Pokud ano, ve kterých sloupcích?\n"
   ]
  },
  {
   "cell_type": "code",
   "execution_count": 138,
   "metadata": {},
   "outputs": [
    {
     "data": {
      "text/plain": [
       "species               0\n",
       "island                0\n",
       "bill_length_mm        2\n",
       "bill_depth_mm         2\n",
       "flipper_length_mm     2\n",
       "body_mass_g           2\n",
       "sex                  11\n",
       "year                  0\n",
       "dtype: int64"
      ]
     },
     "execution_count": 138,
     "metadata": {},
     "output_type": "execute_result"
    }
   ],
   "source": [
    "missing_values = data.isnull()\n",
    "missing_values_sum = missing_values.sum()\n",
    "missing_values_sum\n"
   ]
  },
  {
   "cell_type": "markdown",
   "metadata": {},
   "source": [
    "Které druhy tučňáků mají průměrnou délku křídel větší než 200 mm?"
   ]
  },
  {
   "cell_type": "code",
   "execution_count": 140,
   "metadata": {},
   "outputs": [
    {
     "data": {
      "text/plain": [
       "species\n",
       "Gentoo       217.186992\n",
       "Chinstrap    195.823529\n",
       "Adelie       189.953642\n",
       "Name: flipper_length_mm, dtype: float64"
      ]
     },
     "execution_count": 140,
     "metadata": {},
     "output_type": "execute_result"
    }
   ],
   "source": [
    "#Seskupení dat podle druhu a výpočet průměrné délky křídel\n",
    "grouped\n",
    "druhy_prumer_kridla = grouped['flipper_length_mm'].mean()\n",
    "druhy_prumer_kridla_sorted = druhy_prumer_kridla.sort_values(ascending=False)\n",
    "druhy_prumer_kridla_sorted"
   ]
  },
  {
   "cell_type": "code",
   "execution_count": 141,
   "metadata": {},
   "outputs": [
    {
     "data": {
      "text/plain": [
       "species\n",
       "Gentoo    217.186992\n",
       "Name: flipper_length_mm, dtype: float64"
      ]
     },
     "execution_count": 141,
     "metadata": {},
     "output_type": "execute_result"
    }
   ],
   "source": [
    "#Filtrace druhů s průměrnou délkou křídel větší než 200 mm\n",
    "long_flippers = druhy_prumer_kridla_sorted[druhy_prumer_kridla > 200]\n",
    "long_flippers\n"
   ]
  },
  {
   "cell_type": "markdown",
   "metadata": {},
   "source": [
    "Při vytváření grafů si zvol jakékoliv sloupečky (= je jedno, jaké konkrétní hodnoty budeš\\ vizualizovat). \\\n",
    "\\\n",
    "Vyber si vhodný vizuální styl a barvy."
   ]
  },
  {
   "cell_type": "markdown",
   "metadata": {},
   "source": [
    "Sloupce datasetu:\n",
    "\n",
    "species – Druh tučňáka (Adélie, Gentoo, Chinstrap)\\\n",
    "island – Ostrov, na kterém byl tučňák pozorován (Biscoe, Dream, Torgersen)\\\n",
    "bill_length_mm – Délka zobáku v milimetrech\\\n",
    "bill_depth_mm – Hloubka zobáku v milimetrech\\\n",
    "flipper_length_mm – Délka ploutve v milimetrech\\\n",
    "body_mass_g – Hmotnost těla tučňáka v gramech\\\n",
    "sex – Pohlaví tučňáka (Male nebo Female)\\\n",
    "year – Rok, kdy bylo měření provedeno"
   ]
  },
  {
   "cell_type": "code",
   "execution_count": 7,
   "metadata": {},
   "outputs": [
    {
     "name": "stdout",
     "output_type": "stream",
     "text": [
      "       species     island  bill_length_mm  bill_depth_mm  flipper_length_mm  \\\n",
      "0       Adelie  Torgersen            39.1           18.7              181.0   \n",
      "1       Adelie  Torgersen            39.5           17.4              186.0   \n",
      "2       Adelie  Torgersen            40.3           18.0              195.0   \n",
      "3       Adelie  Torgersen             NaN            NaN                NaN   \n",
      "4       Adelie  Torgersen            36.7           19.3              193.0   \n",
      "..         ...        ...             ...            ...                ...   \n",
      "339  Chinstrap      Dream            55.8           19.8              207.0   \n",
      "340  Chinstrap      Dream            43.5           18.1              202.0   \n",
      "341  Chinstrap      Dream            49.6           18.2              193.0   \n",
      "342  Chinstrap      Dream            50.8           19.0              210.0   \n",
      "343  Chinstrap      Dream            50.2           18.7              198.0   \n",
      "\n",
      "     body_mass_g     sex  year  \n",
      "0         3750.0    male  2007  \n",
      "1         3800.0  female  2007  \n",
      "2         3250.0  female  2007  \n",
      "3            NaN     NaN  2007  \n",
      "4         3450.0  female  2007  \n",
      "..           ...     ...   ...  \n",
      "339       4000.0    male  2009  \n",
      "340       3400.0  female  2009  \n",
      "341       3775.0    male  2009  \n",
      "342       4100.0    male  2009  \n",
      "343       3775.0  female  2009  \n",
      "\n",
      "[344 rows x 8 columns]\n"
     ]
    },
    {
     "data": {
      "image/png": "[encoded data removed]",
      "text/plain": [
       "<Figure size 640x480 with 1 Axes>"
      ]
     },
     "metadata": {},
     "output_type": "display_data"
    }
   ],
   "source": [
    "import matplotlib.pyplot as plt # og vizualizacni knihovna\n",
    "import pandas as pd\n",
    "import seaborn as sns #sdili zaklady s plt, ale lisi se ve visualnim stylu a syntaxi, je novejsi a prijemnejsi\n",
    "\n",
    "data = pd.read_csv('palmer_penguins.csv')\n",
    "data\n",
    "print(data)\n",
    "\n",
    "#Vlož kód pro vytvoření countplotu s tučnáky:\n",
    "ax = sns.countplot(\n",
    "    data, #jaky chci df\n",
    "    x = \"species\", #a z neho jaky sloupecek\n",
    "    )  \n",
    "\n",
    "# Zobrazení grafu\n",
    "plt.show()\n",
    "\n"
   ]
  },
  {
   "cell_type": "code",
   "execution_count": 20,
   "metadata": {},
   "outputs": [
    {
     "data": {
      "image/png": "[encoded data removed]",
      "text/plain": [
       "<Figure size 640x480 with 1 Axes>"
      ]
     },
     "metadata": {},
     "output_type": "display_data"
    }
   ],
   "source": [
    "#Vlož kód pro vytvoření histogramu s tučnáky (včetně parametrů `bin`):\n",
    "\n",
    "\n",
    "ax = sns.histplot( #fce histogram, identifikace grafu k pouziti\n",
    "    data, #pro tabulku , odkud data beru\n",
    "    x=\"species\", # s cim pracuju na ose x\n",
    "    bins=range(0, 5, 10), #Dále použij funkci range, tentokrát ale rozděl hodnoty po pěti, tj. hranice intervalů budou 0, 5, 10, 15 atd.\n",
    ")\n",
    "\n",
    "\n",
    "\n",
    "\n"
   ]
  },
  {
   "cell_type": "code",
   "execution_count": 27,
   "metadata": {},
   "outputs": [
    {
     "data": {
      "image/png": "[encoded data removed]",
      "text/plain": [
       "<Figure size 640x480 with 1 Axes>"
      ]
     },
     "metadata": {},
     "output_type": "display_data"
    }
   ],
   "source": [
    "ax = sns.histplot(\n",
    "    data,        # df\n",
    "    x=\"body_mass_g\",       \n",
    "    hue=\"species\",         #rozlišení podle druhu tučňáků\n",
    "    bins=range(2000, 7000, 1000),  #rozdělení po 500 gramech od 2000 - 7000\n",
    ")\n"
   ]
  },
  {
   "cell_type": "code",
   "execution_count": 34,
   "metadata": {},
   "outputs": [
    {
     "data": {
      "image/png": "[encoded data removed]",
      "text/plain": [
       "<Figure size 640x480 with 1 Axes>"
      ]
     },
     "metadata": {},
     "output_type": "display_data"
    }
   ],
   "source": [
    "#boxplot\n",
    "\n",
    "ax = sns.boxplot(\n",
    "    data, #df\n",
    "    x=\"body_mass_g\",       \n",
    "    y=\"species\",         #rozlišení podle druhu tučňáků \n",
    "    hue=\"island\", #podle ceho probehne rozpad na barvy\n",
    "    #color=\"green\",\n",
    "    palette=\"pastel\",\n",
    "    )"
   ]
  },
  {
   "cell_type": "markdown",
   "metadata": {},
   "source": [
    "Použij funkce `cut` pro rozdělení tučňáků do kategorií podle délky křídel:\n",
    "\n",
    "- `short`: od 0 do 180 mm\n",
    "- `medium`: od 181 mm až do 200 mm\n",
    "- `long`: více než 200 mm"
   ]
  },
  {
   "cell_type": "code",
   "execution_count": 49,
   "metadata": {},
   "outputs": [
    {
     "name": "stdout",
     "output_type": "stream",
     "text": [
      "Počet tučňáků v kategorii long: 148\n"
     ]
    }
   ],
   "source": [
    "\n",
    "# Definování kategorií pro délku křídel pomocí funkce cut\n",
    "bins = [0, 180, 200, float(\"inf\")]  #míst inf lze použít data['flipper_length_mm'].max()]?\n",
    "labels = ['short', 'medium', 'long']\n",
    "\n",
    "data['wing_length_category'] = pd.cut( #novy sloupec\n",
    "    data['flipper_length_mm'], \n",
    "    bins=bins, \n",
    "    labels=labels)\n",
    "\n",
    "data[['wing_length_category', 'flipper_length_mm']]\n",
    "\n",
    "\n",
    "\n",
    "# Počet tučňáků v kategorii 'long'\n",
    "data[data['wing_length_category'] == 'long'].shape[0] #pocet radku v category long\n",
    "long_count = data[data['wing_length_category'] == 'long'].shape[0]\n",
    "print(f'Počet tučňáků v kategorii long: {long_count}')\n"
   ]
  },
  {
   "cell_type": "code",
   "execution_count": 51,
   "metadata": {},
   "outputs": [
    {
     "name": "stdout",
     "output_type": "stream",
     "text": [
      "island     Biscoe  Dream  Torgersen\n",
      "species                            \n",
      "Adelie         44     56         52\n",
      "Chinstrap       0     68          0\n",
      "Gentoo        124      0          0\n"
     ]
    }
   ],
   "source": [
    "\n",
    "# Vytvoření pivot tabulky pomocí crosstab\n",
    "pivot_table_penguins = pd.crosstab(\n",
    "    index=data['species'],  # Druh tučňáka jako řádky\n",
    "    columns=data['island']  # Ostrov jako sloupce\n",
    ")\n",
    "\n",
    "#lze i jednoduseji\n",
    "\n",
    "pivot_table_penguins = pd.crosstab(\n",
    "    data['species'], \n",
    "    data['island']\n",
    "    )\n",
    "\n",
    "\n",
    "# Zobrazení tabulky\n",
    "print(pivot_table_penguins)\n"
   ]
  },
  {
   "cell_type": "code",
   "execution_count": 55,
   "metadata": {},
   "outputs": [
    {
     "name": "stdout",
     "output_type": "stream",
     "text": [
      "island       Biscoe     Dream  Torgersen\n",
      "species                                 \n",
      "Adelie     0.289474  0.368421   0.342105\n",
      "Chinstrap  0.000000  1.000000   0.000000\n",
      "Gentoo     1.000000  0.000000   0.000000\n"
     ]
    }
   ],
   "source": [
    "# Vytvoření pivot tabulky pomocí crosstab v procentech\n",
    "pivot_table_penguins_percent = pd.crosstab(\n",
    "    index=data['species'],     # Druh tučňáka jako řádky\n",
    "    columns=data['island'],    # Ostrov jako sloupce\n",
    "    normalize='index'              # Normalizace podle řádků (procenta pro každý druh tučňáka)\n",
    ")\n",
    "\n",
    "pivot_table_penguins_percent = pd.crosstab(data[\"species\"], data[\"island\"], normalize=\"index\")\n",
    "\n",
    "# Zobrazení tabulky\n",
    "print(pivot_table_penguins_percent)\n",
    "\n"
   ]
  },
  {
   "cell_type": "code",
   "execution_count": 56,
   "metadata": {},
   "outputs": [
    {
     "name": "stdout",
     "output_type": "stream",
     "text": [
      "sex           female       male\n",
      "species                        \n",
      "Adelie     17.621918  19.072603\n",
      "Chinstrap  17.588235  19.252941\n",
      "Gentoo     14.237931  15.718033\n"
     ]
    }
   ],
   "source": [
    "\n",
    "# Vytvoření pivot tabulky s průměrnou hloubkou zobáku podle druhu a pohlaví\n",
    "pivot_table_bill_depth = pd.pivot_table(\n",
    "    data,\n",
    "    values='bill_depth_mm',        # sloupec pro výpočet průměru\n",
    "    index='species',               # druhy tučňáků jako řádky\n",
    "    columns='sex',                 # pohlaví tučňáků jako sloupce\n",
    "    aggfunc='mean',                # průměr jako agregační funkce\n",
    "    dropna=True                    # odstraní řádky s NaN hodnotami\n",
    ")\n",
    "\n",
    "# Zobrazení tabulky\n",
    "print(pivot_table_bill_depth)\n"
   ]
  }
 ],
 "metadata": {
  "kernelspec": {
   "display_name": "Python 3",
   "language": "python",
   "name": "python3"
  },
  "language_info": {
   "codemirror_mode": {
    "name": "ipython",
    "version": 3
   },
   "file_extension": ".py",
   "mimetype": "text/x-python",
   "name": "python",
   "nbconvert_exporter": "python",
   "pygments_lexer": "ipython3",
   "version": "3.12.3"
  }
 },
 "nbformat": 4,
 "nbformat_minor": 2
}
